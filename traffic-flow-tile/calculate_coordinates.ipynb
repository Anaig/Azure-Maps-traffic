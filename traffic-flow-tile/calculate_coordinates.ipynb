{
  "cells": [
    {
      "metadata": {},
      "cell_type": "markdown",
      "source": "# Azure Maps: Tile math functions"
    },
    {
      "metadata": {},
      "cell_type": "markdown",
      "source": "### Converts latitude-longitude into pixel XY coordinates"
    },
    {
      "metadata": {
        "trusted": true
      },
      "cell_type": "code",
      "source": "import math",
      "execution_count": 14,
      "outputs": []
    },
    {
      "metadata": {
        "trusted": true
      },
      "cell_type": "code",
      "source": "position = [51.511778, -0.124217]\nMinLatitude = -85.05112878\nMaxLatitude = 85.05112878;\nMinLongitude = -180;\nMaxLongitude = 180;\nzoom = 14\ntileSize = 256",
      "execution_count": 15,
      "outputs": []
    },
    {
      "metadata": {
        "trusted": true
      },
      "cell_type": "code",
      "source": "#Clips a number to the specified minimum and maximum values.\ndef clip(n, minValue, maxValue):\n    return min(max(n, minValue), maxValue)",
      "execution_count": 16,
      "outputs": []
    },
    {
      "metadata": {
        "trusted": true
      },
      "cell_type": "code",
      "source": "#Calculates width and height of the map in pixels at a specific zoom level from -180 degrees to 180 degrees.\ndef mapSize(zoom, tileSize):\n    return math.ceil(tileSize * math.pow(2, zoom))",
      "execution_count": 19,
      "outputs": []
    },
    {
      "metadata": {
        "trusted": true
      },
      "cell_type": "code",
      "source": "#Converts a point from latitude/longitude WGS-84 coordinates (in degrees) into pixel XY coordinates at a specified level of detail.\nlatitude = clip(position[0], MinLatitude, MaxLatitude)\nlongitude = clip(position[1], MinLongitude, MaxLongitude)\n\nx = (longitude + 180) / 360\nsinLatitude = math.sin(latitude * math.pi / 180)\ny = 0.5 - math.log((1 + sinLatitude) / (1- sinLatitude)) / (4 * math.pi)\n\nmapsize = mapSize(zoom, tileSize)\ntileX = math.floor(clip(x * mapsize + 0.5, 0, mapsize - 1) / tileSize)\ntileY = math.floor(clip(y * mapsize + 0.5, 0, mapsize - 1) / tileSize);",
      "execution_count": 21,
      "outputs": []
    },
    {
      "metadata": {
        "trusted": true
      },
      "cell_type": "code",
      "source": "print(f'TileX: {tileX}, TileY: {tileY}')",
      "execution_count": 22,
      "outputs": [
        {
          "output_type": "stream",
          "text": "TileX: 8186, TileY: 5447\n",
          "name": "stdout"
        }
      ]
    }
  ],
  "metadata": {
    "kernelspec": {
      "name": "python36",
      "display_name": "Python 3.6",
      "language": "python"
    },
    "language_info": {
      "mimetype": "text/x-python",
      "nbconvert_exporter": "python",
      "name": "python",
      "pygments_lexer": "ipython3",
      "version": "3.6.6",
      "file_extension": ".py",
      "codemirror_mode": {
        "version": 3,
        "name": "ipython"
      }
    }
  },
  "nbformat": 4,
  "nbformat_minor": 2
}