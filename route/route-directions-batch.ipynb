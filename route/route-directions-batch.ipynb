{
 "cells": [
  {
   "cell_type": "code",
   "execution_count": null,
   "metadata": {},
   "outputs": [],
   "source": [
    "import numpy as np\n",
    "import json\n",
    "import requests"
   ]
  },
  {
   "cell_type": "markdown",
   "metadata": {},
   "source": [
    "## Generate random coordinates"
   ]
  },
  {
   "cell_type": "code",
   "execution_count": null,
   "metadata": {},
   "outputs": [],
   "source": [
    "maxLatitude = 51.592107\n",
    "minLatitude = 51.440154\n",
    "maxLongitude = 0.074503\n",
    "minLongitude = -0.213945\n",
    "nb = 100"
   ]
  },
  {
   "cell_type": "code",
   "execution_count": null,
   "metadata": {},
   "outputs": [],
   "source": [
    "def getLatitudes(minLatitude, maxLatitude, nb):\n",
    "    latitudeRange = [minLatitude, maxLatitude]\n",
    "    meanLatitude = np.mean(latitudeRange)\n",
    "    latitudes = np.random.normal(meanLatitude, (maxLatitude-minLatitude)/2, nb)\n",
    "    return latitudes"
   ]
  },
  {
   "cell_type": "code",
   "execution_count": null,
   "metadata": {},
   "outputs": [],
   "source": [
    "def getLongitudes(minLongitude, maxLongitude, nb):\n",
    "    longitudeRange = [minLongitude, maxLongitude]\n",
    "    meanLongitude = np.mean(longitudeRange)\n",
    "    longitudes = np.random.normal(meanLongitude, (maxLongitude-minLongitude)/2, nb)\n",
    "    return longitudes"
   ]
  },
  {
   "cell_type": "code",
   "execution_count": null,
   "metadata": {},
   "outputs": [],
   "source": [
    "def getCoordinates(minLatitude, maxLatitude, minLongitude, maxLongitude, nb):\n",
    "    latitudes = getLatitudes(minLatitude, maxLatitude, nb)\n",
    "    longitudes = getLongitudes(minLongitude, maxLongitude, nb)\n",
    "    coordinates = np.column_stack((latitudes, longitudes))\n",
    "    return coordinates"
   ]
  },
  {
   "cell_type": "code",
   "execution_count": null,
   "metadata": {},
   "outputs": [],
   "source": [
    "departureCoordinates = getCoordinates(minLatitude, maxLatitude, minLongitude, maxLongitude, nb)\n",
    "arrivalCoordinates = getCoordinates(minLatitude, maxLatitude, minLongitude, maxLongitude, nb)"
   ]
  },
  {
   "cell_type": "code",
   "execution_count": null,
   "metadata": {
    "scrolled": true
   },
   "outputs": [],
   "source": [
    "#departureCoordinates"
   ]
  },
  {
   "cell_type": "code",
   "execution_count": null,
   "metadata": {
    "scrolled": true
   },
   "outputs": [],
   "source": [
    "#arrivalCoordinates"
   ]
  },
  {
   "cell_type": "markdown",
   "metadata": {},
   "source": [
    "## Call Route Directions batch API"
   ]
  },
  {
   "cell_type": "code",
   "execution_count": null,
   "metadata": {},
   "outputs": [],
   "source": [
    "subscriptionKey = <SUBSCRIPTION_KEY>\n",
    "url = f'https://atlas.microsoft.com/route/directions/batch/sync/json?api-version=1.0&subscription-key={subscriptionKey}'"
   ]
  },
  {
   "cell_type": "code",
   "execution_count": null,
   "metadata": {},
   "outputs": [],
   "source": [
    "body = {\n",
    "    \"batchItems\": [\n",
    "    ]\n",
    "}"
   ]
  },
  {
   "cell_type": "code",
   "execution_count": null,
   "metadata": {},
   "outputs": [],
   "source": [
    "for dc, ac in zip(departureCoordinates, arrivalCoordinates):\n",
    "        query = '{\"query\": \"?query=' + str(dc[0]) + ',' + str(dc[1]) + ':' + str(ac[0]) + ',' + str(ac[1]) + '&travelMode=taxi&traffic=true\"}'\n",
    "        q = json.loads(query)\n",
    "        body['batchItems'].append(q)"
   ]
  },
  {
   "cell_type": "code",
   "execution_count": null,
   "metadata": {},
   "outputs": [],
   "source": [
    "header = {\n",
    "    'Content-type': 'application/json)'\n",
    "}"
   ]
  },
  {
   "cell_type": "code",
   "execution_count": null,
   "metadata": {},
   "outputs": [],
   "source": [
    "r = requests.post(url, json=body, headers=header)"
   ]
  },
  {
   "cell_type": "code",
   "execution_count": null,
   "metadata": {},
   "outputs": [],
   "source": [
    "r.json()"
   ]
  },
  {
   "cell_type": "code",
   "execution_count": null,
   "metadata": {},
   "outputs": [],
   "source": []
  }
 ],
 "metadata": {
  "kernelspec": {
   "display_name": "Python 3.6",
   "language": "python",
   "name": "python36"
  },
  "language_info": {
   "codemirror_mode": {
    "name": "ipython",
    "version": 3
   },
   "file_extension": ".py",
   "mimetype": "text/x-python",
   "name": "python",
   "nbconvert_exporter": "python",
   "pygments_lexer": "ipython3",
   "version": "3.6.6"
  }
 },
 "nbformat": 4,
 "nbformat_minor": 2
}